{
 "cells": [
  {
   "cell_type": "markdown",
   "metadata": {},
   "source": [
    "# Build the networks from the data Retrieved by the databases "
   ]
  },
  {
   "cell_type": "code",
   "execution_count": 1,
   "metadata": {},
   "outputs": [],
   "source": [
    "import networkx as nx\n",
    "from fa2 import ForceAtlas2  #the package should be installed before\n",
    "import matplotlib.pyplot as plt\n",
    "import datetime\n",
    "from statistics import mean, median, quantiles\n",
    "from networkx.algorithms.traversal.breadth_first_search import descendants_at_distance\n",
    "import time\n",
    "import requests\n",
    "import glob\n",
    "import pickle\n",
    "import json\n",
    "import zstandard\n",
    "import pandas as pd\n",
    "import os\n",
    "import shutil"
   ]
  },
  {
   "cell_type": "code",
   "execution_count": 2,
   "metadata": {},
   "outputs": [],
   "source": [
    "def replies_of(row, replies, s_k):\n",
    "    if replies.shape[0] == 0:\n",
    "        return\n",
    "    for index_c, row_c in replies.iterrows():\n",
    "        commentsGraph.add_node(row_c[\"id\"], subset_key = s_k, created=row_c[\"created_utc\"], body=row_c[\"body\"],author=row_c[\"author_fullname\"],score=row_c[\"score\"])\n",
    "        commentsGraph.add_edge(row_c[\"parent_id\"], row_c[\"id\"])\n",
    "            \n",
    "        authorGraph.add_node(row_c[\"author_fullname\"], created=row_c[\"created_utc\"])\n",
    "        authorGraph.add_edge(row_c[\"author_fullname\"], row[\"author_fullname\"])\n",
    "        \n",
    "        replies_of(row_c, comm_df[comm_df[\"parent_id\"]==row_c[\"id\"]], s_k+1)"
   ]
  },
  {
   "cell_type": "code",
   "execution_count": 6,
   "metadata": {},
   "outputs": [],
   "source": [
    "subreddit = \"PoliticalDiscussion\"\n",
    "\n",
    "shutil.rmtree(\"aG_prove_monthly_\"+subreddit+\"/aux\")\n",
    "os.mkdir(\"aG_prove_monthly_\"+subreddit+\"/aux\")\n",
    "shutil.rmtree(\"cG_prove_monthly_\"+subreddit+\"/aux\")\n",
    "os.mkdir(\"cG_prove_monthly_\"+subreddit+\"/aux\")\n",
    "\n",
    "shutil.rmtree(\"aG_prove_monthly_\"+subreddit+\"/total\")\n",
    "os.mkdir(\"aG_prove_monthly_\"+subreddit+\"/total\")\n",
    "shutil.rmtree(\"cG_prove_monthly_\"+subreddit+\"/total\")\n",
    "os.mkdir(\"cG_prove_monthly_\"+subreddit+\"/total\")\n",
    "\n"
   ]
  },
  {
   "cell_type": "code",
   "execution_count": 7,
   "metadata": {
    "scrolled": false
   },
   "outputs": [
    {
     "name": "stdout",
     "output_type": "stream",
     "text": [
      "\n",
      "2019-2\n",
      "total:  6664\n",
      "Done:  500 \tin  0:01:20\n",
      "Done:  1000 \tin  0:02:12\n",
      "Done:  1500 \tin  0:03:27\n",
      "Done:  2000 \tin  0:04:06\n",
      "Done:  2500 \tin  0:05:00\n",
      "Done:  3000 \tin  0:06:51\n",
      "Done:  3500 \tin  0:08:09\n",
      "Done:  4000 \tin  0:09:11\n",
      "Done:  4500 \tin  0:10:26\n",
      "Done:  5000 \tin  0:11:01\n",
      "Done:  5500 \tin  0:11:28\n",
      "Done:  6000 \tin  0:12:01\n",
      "Done:  6500 \tin  0:12:49\n",
      "\n",
      "2019-23\n",
      "total:  8266\n",
      "Done:  500 \tin  0:02:21\n",
      "Done:  1000 \tin  0:06:59\n",
      "Done:  1500 \tin  0:10:08\n",
      "Done:  2000 \tin  0:12:58\n",
      "Done:  2500 \tin  0:18:39\n",
      "Done:  3000 \tin  0:22:11\n",
      "Done:  3500 \tin  0:25:21\n",
      "Done:  4000 \tin  0:28:32\n",
      "Done:  4500 \tin  0:33:17\n",
      "Done:  5000 \tin  0:36:17\n",
      "Done:  5500 \tin  0:38:13\n",
      "Done:  6000 \tin  0:39:37\n",
      "Done:  6500 \tin  0:41:32\n",
      "Done:  7000 \tin  0:42:42\n",
      "Done:  7500 \tin  0:43:50\n",
      "Done:  8000 \tin  0:45:14\n"
     ]
    }
   ],
   "source": [
    "subreddit = \"PoliticalDiscussion\"\n",
    "subfolders = [\"2019-2\",\"2019-23\"]\n",
    "\n",
    "for subfolder in subfolders:\n",
    "    shutil.rmtree(\"aG_prove_monthly_\"+subreddit+\"/\"+subfolder)\n",
    "    os.mkdir(\"aG_prove_monthly_\"+subreddit+\"/\"+subfolder)\n",
    "    shutil.rmtree(\"cG_prove_monthly_\"+subreddit+\"/\"+subfolder)\n",
    "    os.mkdir(\"cG_prove_monthly_\"+subreddit+\"/\"+subfolder)\n",
    "    \n",
    "    program_starts = time.time()\n",
    "    in_df = pd.read_pickle(\"RS_\"+subreddit+\"_\"+subfolder+\".pickle\")\n",
    "    print()\n",
    "    print(subfolder)\n",
    "    print(\"total: \",in_df.shape[0])\n",
    "    \n",
    "    \n",
    "    for index, row in in_df.iterrows():\n",
    "        authorGraph = nx.DiGraph()\n",
    "        commentsGraph = nx.DiGraph()\n",
    "        commentsGraph.add_node(row[\"name\"], subset_key=0, num_comm=row[\"num_comments\"], created=row[\"created_utc\"], body=row[\"title\"],author=row[\"author_fullname\"],score=row[\"score\"])\n",
    "        authorGraph.add_node(row[\"author_fullname\"], subset_key=0, created=row[\"created_utc\"])\n",
    "    \n",
    "        nx.write_gpickle(authorGraph,\"aG_prove_monthly_\"+subreddit+\"/aux/aGraph_\"+row[\"name\"]+\"_\"+subreddit)\n",
    "        nx.write_gpickle(commentsGraph,\"cG_prove_monthly_\"+subreddit+\"/aux/cGraph_\"+row[\"name\"]+\"_\"+subreddit)\n",
    "        \n",
    "    comm_df = pd.read_pickle(\"RC_\"+subreddit+\"_\"+subfolder+\".pickle\")\n",
    "    \n",
    "    \n",
    "    \n",
    "    '''\n",
    "    !!!!!!!!!!!!!!!!!!!!!\n",
    "    '''\n",
    "\n",
    "    moderator = 1\n",
    "    \n",
    "    '''\n",
    "    !!!!!!!!!!!!!!!!!!!!!\n",
    "    '''\n",
    "\n",
    "\n",
    "\n",
    "\n",
    "    for index, row in in_df.iterrows():\n",
    "        if index%500 == 0 and index!=0:\n",
    "            now = time.time()\n",
    "            print(\"Done: \",index,\n",
    "                  \"\\tin \",str(datetime.timedelta(seconds=(now - program_starts))).split('.')[0])\n",
    "        aux = comm_df[comm_df[\"parent_id\"]==row[\"name\"]]\n",
    "        if aux.shape[0] > moderator:\n",
    "            commentsGraph = nx.read_gpickle(\"cG_prove_monthly_\"+subreddit+\"/aux/cGraph_\"+row[\"name\"]+\"_\"+subreddit)\n",
    "            authorGraph = nx.read_gpickle(\"aG_prove_monthly_\"+subreddit+\"/aux/aGraph_\"+row[\"name\"]+\"_\"+subreddit)\n",
    "        \n",
    "            for index_c, row_c in aux.iterrows():\n",
    "                commentsGraph.add_node(row_c[\"id\"], subset_key=1, created=row_c[\"created_utc\"], body=row_c[\"body\"],author=row_c[\"author_fullname\"],score=row_c[\"score\"])\n",
    "                commentsGraph.add_edge(row_c[\"parent_id\"], row_c[\"id\"])\n",
    "                \n",
    "                if row_c[\"author_fullname\"] not in authorGraph:\n",
    "                    authorGraph.add_node(row_c[\"author_fullname\"], created=row_c[\"created_utc\"])\n",
    "                authorGraph.add_edge(row_c[\"author_fullname\"], row[\"author_fullname\"])\n",
    "            \n",
    "                replies_of(row_c, comm_df[comm_df[\"parent_id\"]==row_c[\"id\"]], s_k=1 )\n",
    "            \n",
    "            nx.write_gpickle(authorGraph,\"aG_prove_monthly_\"+subreddit+\"/\"+subfolder+\"/aGraph_\"+row[\"name\"]+\"_\"+subreddit)\n",
    "            nx.write_gpickle(commentsGraph,\"cG_prove_monthly_\"+subreddit+\"/\"+subfolder+\"/cGraph_\"+row[\"name\"]+\"_\"+subreddit)\n",
    "   "
   ]
  },
  {
   "cell_type": "code",
   "execution_count": 8,
   "metadata": {},
   "outputs": [],
   "source": [
    "subreddit = \"PoliticalDiscussion\"\n",
    "subfolders = [\"2019-2\",\"2019-23\",\"total_aux\"]\n",
    "\n",
    "for subfolder in subfolders:\n",
    "    pathsA = glob.glob(\"aG_prove_monthly_\"+subreddit+\"/\"+subfolder+\"/*\") \n",
    "    pathsC = glob.glob(\"cG_prove_monthly_\"+subreddit+\"/\"+subfolder+\"/*\") \n",
    "    for f in pathsA:\n",
    "        shutil.copy(f, \"aG_prove_monthly_\"+subreddit+\"/total\")\n",
    "    for f in pathsC:\n",
    "        shutil.copy(f, \"cG_prove_monthly_\"+subreddit+\"/total\")"
   ]
  }
 ],
 "metadata": {
  "kernelspec": {
   "display_name": "Python 3",
   "language": "python",
   "name": "python3"
  },
  "language_info": {
   "codemirror_mode": {
    "name": "ipython",
    "version": 3
   },
   "file_extension": ".py",
   "mimetype": "text/x-python",
   "name": "python",
   "nbconvert_exporter": "python",
   "pygments_lexer": "ipython3",
   "version": "3.8.8"
  }
 },
 "nbformat": 4,
 "nbformat_minor": 4
}
