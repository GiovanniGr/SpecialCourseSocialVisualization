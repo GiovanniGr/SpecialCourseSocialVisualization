{
 "cells": [
  {
   "cell_type": "code",
   "execution_count": 60,
   "id": "f0c6ede5",
   "metadata": {},
   "outputs": [],
   "source": [
    "import networkx as nx\n",
    "from fa2 import ForceAtlas2  #the package should be installed before\n",
    "import matplotlib.pyplot as plt\n",
    "from datetime import datetime\n",
    "from statistics import mean, median, quantiles\n",
    "from networkx.algorithms.traversal.breadth_first_search import descendants_at_distance\n",
    "import time\n",
    "import requests\n",
    "import glob\n",
    "import pickle\n",
    "import os\n",
    "import shutil\n",
    "import json\n",
    "import time\n",
    "import pandas as pd"
   ]
  },
  {
   "cell_type": "code",
   "execution_count": 61,
   "id": "7895b20f",
   "metadata": {},
   "outputs": [],
   "source": [
    "with open('stat_puppies_distrEqualized.pickle', 'rb') as handle:\n",
    "    puppies = pickle.load(handle)"
   ]
  },
  {
   "cell_type": "code",
   "execution_count": 62,
   "id": "689d7ffa",
   "metadata": {},
   "outputs": [],
   "source": [
    "df = pd.read_csv(\"bubble.csv\")"
   ]
  },
  {
   "cell_type": "code",
   "execution_count": 63,
   "id": "f6284608",
   "metadata": {},
   "outputs": [
    {
     "data": {
      "text/html": [
       "<div>\n",
       "<style scoped>\n",
       "    .dataframe tbody tr th:only-of-type {\n",
       "        vertical-align: middle;\n",
       "    }\n",
       "\n",
       "    .dataframe tbody tr th {\n",
       "        vertical-align: top;\n",
       "    }\n",
       "\n",
       "    .dataframe thead th {\n",
       "        text-align: right;\n",
       "    }\n",
       "</style>\n",
       "<table border=\"1\" class=\"dataframe\">\n",
       "  <thead>\n",
       "    <tr style=\"text-align: right;\">\n",
       "      <th></th>\n",
       "      <th>group</th>\n",
       "      <th>name</th>\n",
       "      <th>value</th>\n",
       "    </tr>\n",
       "  </thead>\n",
       "  <tbody>\n",
       "    <tr>\n",
       "      <th>0</th>\n",
       "      <td>puppies</td>\n",
       "      <td>igh3pb</td>\n",
       "      <td>11.058824</td>\n",
       "    </tr>\n",
       "    <tr>\n",
       "      <th>1</th>\n",
       "      <td>PoliticalDiscussion</td>\n",
       "      <td>jbuwav</td>\n",
       "      <td>18.882353</td>\n",
       "    </tr>\n",
       "    <tr>\n",
       "      <th>2</th>\n",
       "      <td>PoliticalDiscussion</td>\n",
       "      <td>mi3c9v</td>\n",
       "      <td>2.117647</td>\n",
       "    </tr>\n",
       "    <tr>\n",
       "      <th>3</th>\n",
       "      <td>PoliticalDiscussion</td>\n",
       "      <td>lsj8ui</td>\n",
       "      <td>1.000000</td>\n",
       "    </tr>\n",
       "    <tr>\n",
       "      <th>4</th>\n",
       "      <td>PoliticalDiscussion</td>\n",
       "      <td>jofug7</td>\n",
       "      <td>6.588235</td>\n",
       "    </tr>\n",
       "    <tr>\n",
       "      <th>...</th>\n",
       "      <td>...</td>\n",
       "      <td>...</td>\n",
       "      <td>...</td>\n",
       "    </tr>\n",
       "    <tr>\n",
       "      <th>679</th>\n",
       "      <td>PoliticalDiscussion</td>\n",
       "      <td>jagt50</td>\n",
       "      <td>6.588235</td>\n",
       "    </tr>\n",
       "    <tr>\n",
       "      <th>680</th>\n",
       "      <td>puppies</td>\n",
       "      <td>jdpg7k</td>\n",
       "      <td>6.588235</td>\n",
       "    </tr>\n",
       "    <tr>\n",
       "      <th>681</th>\n",
       "      <td>PoliticalDiscussion</td>\n",
       "      <td>lc11km</td>\n",
       "      <td>1.000000</td>\n",
       "    </tr>\n",
       "    <tr>\n",
       "      <th>682</th>\n",
       "      <td>puppies</td>\n",
       "      <td>jbsq91</td>\n",
       "      <td>4.352941</td>\n",
       "    </tr>\n",
       "    <tr>\n",
       "      <th>683</th>\n",
       "      <td>puppies</td>\n",
       "      <td>d2padg</td>\n",
       "      <td>3.235294</td>\n",
       "    </tr>\n",
       "  </tbody>\n",
       "</table>\n",
       "<p>684 rows × 3 columns</p>\n",
       "</div>"
      ],
      "text/plain": [
       "                   group    name      value\n",
       "0                puppies  igh3pb  11.058824\n",
       "1    PoliticalDiscussion  jbuwav  18.882353\n",
       "2    PoliticalDiscussion  mi3c9v   2.117647\n",
       "3    PoliticalDiscussion  lsj8ui   1.000000\n",
       "4    PoliticalDiscussion  jofug7   6.588235\n",
       "..                   ...     ...        ...\n",
       "679  PoliticalDiscussion  jagt50   6.588235\n",
       "680              puppies  jdpg7k   6.588235\n",
       "681  PoliticalDiscussion  lc11km   1.000000\n",
       "682              puppies  jbsq91   4.352941\n",
       "683              puppies  d2padg   3.235294\n",
       "\n",
       "[684 rows x 3 columns]"
      ]
     },
     "execution_count": 63,
     "metadata": {},
     "output_type": "execute_result"
    }
   ],
   "source": [
    "df"
   ]
  },
  {
   "cell_type": "code",
   "execution_count": 64,
   "id": "ef07990c",
   "metadata": {},
   "outputs": [],
   "source": [
    "names = df[\"name\"].unique()"
   ]
  },
  {
   "cell_type": "code",
   "execution_count": 65,
   "id": "8c8a5e7c",
   "metadata": {},
   "outputs": [
    {
     "data": {
      "text/plain": [
       "684"
      ]
     },
     "execution_count": 65,
     "metadata": {},
     "output_type": "execute_result"
    }
   ],
   "source": [
    "len(names)"
   ]
  },
  {
   "cell_type": "code",
   "execution_count": 66,
   "id": "64c16fae",
   "metadata": {},
   "outputs": [
    {
     "name": "stdout",
     "output_type": "stream",
     "text": [
      "yes\n"
     ]
    }
   ],
   "source": [
    "if \"jbuwav\" in names:\n",
    "    print(\"yes\")"
   ]
  },
  {
   "cell_type": "code",
   "execution_count": 67,
   "id": "ffc79695",
   "metadata": {},
   "outputs": [],
   "source": [
    "comPupNets = glob.glob(\"cG_enrich_monthly_puppies/total/*\")\n",
    "comPolNets = glob.glob(\"cG_enrich_monthly_PoliticalDiscussion/total/*\")"
   ]
  },
  {
   "cell_type": "code",
   "execution_count": 68,
   "id": "12a085ce",
   "metadata": {},
   "outputs": [],
   "source": [
    "jsonData = {}"
   ]
  },
  {
   "cell_type": "code",
   "execution_count": 69,
   "id": "8c8e70ca",
   "metadata": {},
   "outputs": [],
   "source": [
    "def createNode(name, graph):\n",
    "    node = {}\n",
    "    node[\"name\"] = name\n",
    "    node[\"created\"] =  str(datetime.utcfromtimestamp(int(graph.nodes()[name][\"created\"])))\n",
    "    node[\"author\"] = graph.nodes()[name][\"author\"]\n",
    "    node[\"body\"] = graph.nodes()[name][\"body\"]\n",
    "    #dd MMM yyyy HH:mm:ss\n",
    "    if len(graph.out_edges(name)) == 0:\n",
    "        return node\n",
    "    children = []\n",
    "    for child in graph.out_edges(name):\n",
    "        children.append(createNode(child[1], graph))\n",
    "    node[\"children\"] = children\n",
    "    return node"
   ]
  },
  {
   "cell_type": "code",
   "execution_count": 70,
   "id": "8a21ea81",
   "metadata": {},
   "outputs": [
    {
     "name": "stdout",
     "output_type": "stream",
     "text": [
      "0 / 1599\n",
      "500 / 1599\n",
      "1000 / 1599\n",
      "1500 / 1599\n",
      "342\n"
     ]
    }
   ],
   "source": [
    "j=0\n",
    "for i,net in enumerate(comPupNets):\n",
    "        if i%500 == 0:\n",
    "            print(i,\"/\",len(comPupNets))\n",
    "        netId = net.split(\"_\")[-2]\n",
    "        if netId in names:\n",
    "            j+=1\n",
    "            commentsGraph = nx.read_gpickle(net)\n",
    "            root = list(commentsGraph.nodes())[0]\n",
    "            jsonData[root] = createNode(root, commentsGraph)\n",
    "print(j)"
   ]
  },
  {
   "cell_type": "code",
   "execution_count": 71,
   "id": "c234d489",
   "metadata": {},
   "outputs": [
    {
     "name": "stdout",
     "output_type": "stream",
     "text": [
      "0 / 16652\n",
      "500 / 16652\n",
      "1000 / 16652\n",
      "1500 / 16652\n",
      "2000 / 16652\n",
      "2500 / 16652\n",
      "3000 / 16652\n",
      "3500 / 16652\n",
      "4000 / 16652\n",
      "4500 / 16652\n",
      "5000 / 16652\n",
      "5500 / 16652\n",
      "6000 / 16652\n",
      "6500 / 16652\n",
      "7000 / 16652\n",
      "7500 / 16652\n",
      "8000 / 16652\n",
      "8500 / 16652\n",
      "9000 / 16652\n",
      "9500 / 16652\n",
      "10000 / 16652\n",
      "10500 / 16652\n",
      "11000 / 16652\n",
      "11500 / 16652\n",
      "12000 / 16652\n",
      "12500 / 16652\n",
      "13000 / 16652\n",
      "13500 / 16652\n",
      "14000 / 16652\n",
      "14500 / 16652\n",
      "15000 / 16652\n",
      "15500 / 16652\n",
      "16000 / 16652\n",
      "16500 / 16652\n",
      "342\n"
     ]
    }
   ],
   "source": [
    "j=0\n",
    "for i,net in enumerate(comPolNets):\n",
    "        if i%500 == 0:\n",
    "            print(i,\"/\",len(comPolNets))\n",
    "        netId = net.split(\"_\")[-2]\n",
    "        if netId in names:\n",
    "            j+=1\n",
    "            commentsGraph = nx.read_gpickle(net)\n",
    "            root = list(commentsGraph.nodes())[0]\n",
    "            jsonData[root] = createNode(root, commentsGraph)\n",
    "print(j)"
   ]
  },
  {
   "cell_type": "code",
   "execution_count": 72,
   "id": "0c461f5d",
   "metadata": {},
   "outputs": [
    {
     "data": {
      "text/plain": [
       "684"
      ]
     },
     "execution_count": 72,
     "metadata": {},
     "output_type": "execute_result"
    }
   ],
   "source": [
    "len(jsonData.keys())"
   ]
  },
  {
   "cell_type": "code",
   "execution_count": 73,
   "id": "9274622e",
   "metadata": {},
   "outputs": [],
   "source": [
    "with open('authorTrees.json', 'w') as outfile:\n",
    "    json.dump(jsonData, outfile)"
   ]
  },
  {
   "cell_type": "code",
   "execution_count": null,
   "id": "cf45c32a",
   "metadata": {},
   "outputs": [],
   "source": []
  },
  {
   "cell_type": "code",
   "execution_count": null,
   "id": "d72b819c",
   "metadata": {},
   "outputs": [],
   "source": []
  },
  {
   "cell_type": "code",
   "execution_count": null,
   "id": "50e67ada",
   "metadata": {},
   "outputs": [],
   "source": []
  },
  {
   "cell_type": "code",
   "execution_count": null,
   "id": "1932029b",
   "metadata": {},
   "outputs": [],
   "source": []
  },
  {
   "cell_type": "code",
   "execution_count": 9,
   "id": "b13bc963",
   "metadata": {},
   "outputs": [],
   "source": [
    "commentsGraph = nx.read_gpickle(net)"
   ]
  },
  {
   "cell_type": "code",
   "execution_count": 10,
   "id": "9df72831",
   "metadata": {},
   "outputs": [
    {
     "ename": "KeyError",
     "evalue": "'t3_m5dkm0'",
     "output_type": "error",
     "traceback": [
      "\u001b[0;31m---------------------------------------------------------------------------\u001b[0m",
      "\u001b[0;31mKeyError\u001b[0m                                  Traceback (most recent call last)",
      "\u001b[0;32m<ipython-input-10-c1b6c3ce8608>\u001b[0m in \u001b[0;36m<module>\u001b[0;34m\u001b[0m\n\u001b[0;32m----> 1\u001b[0;31m \u001b[0mcommentsGraph\u001b[0m\u001b[0;34m.\u001b[0m\u001b[0mnodes\u001b[0m\u001b[0;34m(\u001b[0m\u001b[0;34m)\u001b[0m\u001b[0;34m[\u001b[0m\u001b[0;34m\"t3_m5dkm0\"\u001b[0m\u001b[0;34m]\u001b[0m\u001b[0;34m\u001b[0m\u001b[0;34m\u001b[0m\u001b[0m\n\u001b[0m",
      "\u001b[0;32m/opt/anaconda3/lib/python3.8/site-packages/networkx/classes/reportviews.py\u001b[0m in \u001b[0;36m__getitem__\u001b[0;34m(self, n)\u001b[0m\n\u001b[1;32m    191\u001b[0m                 \u001b[0;34mf\"try list(G.nodes)[{n.start}:{n.stop}:{n.step}]\"\u001b[0m\u001b[0;34m\u001b[0m\u001b[0;34m\u001b[0m\u001b[0m\n\u001b[1;32m    192\u001b[0m             )\n\u001b[0;32m--> 193\u001b[0;31m         \u001b[0;32mreturn\u001b[0m \u001b[0mself\u001b[0m\u001b[0;34m.\u001b[0m\u001b[0m_nodes\u001b[0m\u001b[0;34m[\u001b[0m\u001b[0mn\u001b[0m\u001b[0;34m]\u001b[0m\u001b[0;34m\u001b[0m\u001b[0;34m\u001b[0m\u001b[0m\n\u001b[0m\u001b[1;32m    194\u001b[0m \u001b[0;34m\u001b[0m\u001b[0m\n\u001b[1;32m    195\u001b[0m     \u001b[0;31m# Set methods\u001b[0m\u001b[0;34m\u001b[0m\u001b[0;34m\u001b[0m\u001b[0;34m\u001b[0m\u001b[0m\n",
      "\u001b[0;31mKeyError\u001b[0m: 't3_m5dkm0'"
     ]
    }
   ],
   "source": [
    "commentsGraph.nodes()[\"t3_m5dkm0\"]"
   ]
  },
  {
   "cell_type": "code",
   "execution_count": null,
   "id": "ecb823cd",
   "metadata": {},
   "outputs": [],
   "source": []
  }
 ],
 "metadata": {
  "kernelspec": {
   "display_name": "Python 3",
   "language": "python",
   "name": "python3"
  },
  "language_info": {
   "codemirror_mode": {
    "name": "ipython",
    "version": 3
   },
   "file_extension": ".py",
   "mimetype": "text/x-python",
   "name": "python",
   "nbconvert_exporter": "python",
   "pygments_lexer": "ipython3",
   "version": "3.8.8"
  }
 },
 "nbformat": 4,
 "nbformat_minor": 5
}
