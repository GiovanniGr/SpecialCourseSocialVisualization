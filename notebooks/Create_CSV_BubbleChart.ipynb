{
 "cells": [
  {
   "cell_type": "code",
   "execution_count": 1,
   "id": "700b09f0",
   "metadata": {},
   "outputs": [],
   "source": [
    "import networkx as nx\n",
    "from fa2 import ForceAtlas2  #the package should be installed before\n",
    "import matplotlib.pyplot as plt\n",
    "from datetime import datetime\n",
    "from statistics import mean, median, quantiles\n",
    "from networkx.algorithms.traversal.breadth_first_search import descendants_at_distance\n",
    "import time\n",
    "import requests\n",
    "import glob\n",
    "import pickle\n",
    "import numpy as np\n",
    "import copy\n",
    "import pandas as pd\n",
    "import sklearn.preprocessing"
   ]
  },
  {
   "cell_type": "code",
   "execution_count": 2,
   "id": "8408cb51",
   "metadata": {},
   "outputs": [],
   "source": [
    "with open('stat_puppies_distrEqualized.pickle', 'rb') as handle:\n",
    "    puppies = pickle.load(handle)\n",
    "    \n",
    "with open('stat_PoliticalDiscussion_distrEqualized.pickle', 'rb') as handle:\n",
    "    PoliticalDiscussion = pickle.load(handle)"
   ]
  },
  {
   "cell_type": "code",
   "execution_count": 3,
   "id": "d1385fb2",
   "metadata": {},
   "outputs": [],
   "source": [
    "df = pd.DataFrame()\n",
    "\n",
    "mini=10\n",
    "maxi=29\n",
    "\n",
    "ids = [id.split(\"_\")[1] for id in puppies if (puppies[id][\"commStats\"][\"num_comments\"]>mini and puppies[id][\"commStats\"][\"num_comments\"]<maxi)]\n",
    "ids.extend([id.split(\"_\")[1] for id in PoliticalDiscussion if (PoliticalDiscussion[id][\"commStats\"][\"num_comments\"]>mini and PoliticalDiscussion[id][\"commStats\"][\"num_comments\"]<maxi)])\n",
    "\n",
    "subreddit = [\"puppies\" for id in puppies if (puppies[id][\"commStats\"][\"num_comments\"]>mini and puppies[id][\"commStats\"][\"num_comments\"]<maxi)]\n",
    "subreddit.extend([\"PoliticalDiscussion\" for id in PoliticalDiscussion if (PoliticalDiscussion[id][\"commStats\"][\"num_comments\"]>mini and PoliticalDiscussion[id][\"commStats\"][\"num_comments\"]<maxi)])\n",
    "\n",
    "num_comments = [puppies[id][\"commStats\"][\"num_comments\"]/2 for id in puppies if (puppies[id][\"commStats\"][\"num_comments\"]>mini and puppies[id][\"commStats\"][\"num_comments\"]<maxi)]\n",
    "num_comments.extend([PoliticalDiscussion[id][\"commStats\"][\"num_comments\"]/2 for id in PoliticalDiscussion if (PoliticalDiscussion[id][\"commStats\"][\"num_comments\"]>mini and PoliticalDiscussion[id][\"commStats\"][\"num_comments\"]<maxi)])\n",
    "\n",
    "num_comments = sklearn.preprocessing.minmax_scale(num_comments, feature_range=(1, 20), axis=0, copy=True)\n",
    "\n",
    "df[\"group\"] = subreddit\n",
    "df[\"name\"]=ids\n",
    "df[\"radius\"]=num_comments"
   ]
  },
  {
   "cell_type": "code",
   "execution_count": 7,
   "id": "99a43e01",
   "metadata": {},
   "outputs": [],
   "source": [
    "df = df.sample(frac=1).reset_index(drop=True)"
   ]
  },
  {
   "cell_type": "code",
   "execution_count": 8,
   "id": "c7265163",
   "metadata": {},
   "outputs": [
    {
     "data": {
      "text/html": [
       "<div>\n",
       "<style scoped>\n",
       "    .dataframe tbody tr th:only-of-type {\n",
       "        vertical-align: middle;\n",
       "    }\n",
       "\n",
       "    .dataframe tbody tr th {\n",
       "        vertical-align: top;\n",
       "    }\n",
       "\n",
       "    .dataframe thead th {\n",
       "        text-align: right;\n",
       "    }\n",
       "</style>\n",
       "<table border=\"1\" class=\"dataframe\">\n",
       "  <thead>\n",
       "    <tr style=\"text-align: right;\">\n",
       "      <th></th>\n",
       "      <th>group</th>\n",
       "      <th>name</th>\n",
       "      <th>radius</th>\n",
       "    </tr>\n",
       "  </thead>\n",
       "  <tbody>\n",
       "    <tr>\n",
       "      <th>0</th>\n",
       "      <td>puppies</td>\n",
       "      <td>igh3pb</td>\n",
       "      <td>11.058824</td>\n",
       "    </tr>\n",
       "    <tr>\n",
       "      <th>1</th>\n",
       "      <td>PoliticalDiscussion</td>\n",
       "      <td>jbuwav</td>\n",
       "      <td>18.882353</td>\n",
       "    </tr>\n",
       "    <tr>\n",
       "      <th>2</th>\n",
       "      <td>PoliticalDiscussion</td>\n",
       "      <td>mi3c9v</td>\n",
       "      <td>2.117647</td>\n",
       "    </tr>\n",
       "    <tr>\n",
       "      <th>3</th>\n",
       "      <td>PoliticalDiscussion</td>\n",
       "      <td>lsj8ui</td>\n",
       "      <td>1.000000</td>\n",
       "    </tr>\n",
       "    <tr>\n",
       "      <th>4</th>\n",
       "      <td>PoliticalDiscussion</td>\n",
       "      <td>jofug7</td>\n",
       "      <td>6.588235</td>\n",
       "    </tr>\n",
       "    <tr>\n",
       "      <th>...</th>\n",
       "      <td>...</td>\n",
       "      <td>...</td>\n",
       "      <td>...</td>\n",
       "    </tr>\n",
       "    <tr>\n",
       "      <th>679</th>\n",
       "      <td>PoliticalDiscussion</td>\n",
       "      <td>jagt50</td>\n",
       "      <td>6.588235</td>\n",
       "    </tr>\n",
       "    <tr>\n",
       "      <th>680</th>\n",
       "      <td>puppies</td>\n",
       "      <td>jdpg7k</td>\n",
       "      <td>6.588235</td>\n",
       "    </tr>\n",
       "    <tr>\n",
       "      <th>681</th>\n",
       "      <td>PoliticalDiscussion</td>\n",
       "      <td>lc11km</td>\n",
       "      <td>1.000000</td>\n",
       "    </tr>\n",
       "    <tr>\n",
       "      <th>682</th>\n",
       "      <td>puppies</td>\n",
       "      <td>jbsq91</td>\n",
       "      <td>4.352941</td>\n",
       "    </tr>\n",
       "    <tr>\n",
       "      <th>683</th>\n",
       "      <td>puppies</td>\n",
       "      <td>d2padg</td>\n",
       "      <td>3.235294</td>\n",
       "    </tr>\n",
       "  </tbody>\n",
       "</table>\n",
       "<p>684 rows × 3 columns</p>\n",
       "</div>"
      ],
      "text/plain": [
       "                   group    name     radius\n",
       "0                puppies  igh3pb  11.058824\n",
       "1    PoliticalDiscussion  jbuwav  18.882353\n",
       "2    PoliticalDiscussion  mi3c9v   2.117647\n",
       "3    PoliticalDiscussion  lsj8ui   1.000000\n",
       "4    PoliticalDiscussion  jofug7   6.588235\n",
       "..                   ...     ...        ...\n",
       "679  PoliticalDiscussion  jagt50   6.588235\n",
       "680              puppies  jdpg7k   6.588235\n",
       "681  PoliticalDiscussion  lc11km   1.000000\n",
       "682              puppies  jbsq91   4.352941\n",
       "683              puppies  d2padg   3.235294\n",
       "\n",
       "[684 rows x 3 columns]"
      ]
     },
     "execution_count": 8,
     "metadata": {},
     "output_type": "execute_result"
    }
   ],
   "source": [
    "df"
   ]
  },
  {
   "cell_type": "code",
   "execution_count": 9,
   "id": "0cfd6cc8",
   "metadata": {},
   "outputs": [],
   "source": [
    "df.to_csv(\"Project_1/bubble.csv\", index=False)"
   ]
  },
  {
   "cell_type": "code",
   "execution_count": null,
   "id": "cdd174da",
   "metadata": {},
   "outputs": [],
   "source": []
  }
 ],
 "metadata": {
  "kernelspec": {
   "display_name": "Python 3",
   "language": "python",
   "name": "python3"
  },
  "language_info": {
   "codemirror_mode": {
    "name": "ipython",
    "version": 3
   },
   "file_extension": ".py",
   "mimetype": "text/x-python",
   "name": "python",
   "nbconvert_exporter": "python",
   "pygments_lexer": "ipython3",
   "version": "3.8.8"
  }
 },
 "nbformat": 4,
 "nbformat_minor": 5
}
