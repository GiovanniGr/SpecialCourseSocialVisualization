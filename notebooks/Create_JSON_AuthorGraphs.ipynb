{
 "cells": [
  {
   "cell_type": "code",
   "execution_count": 26,
   "id": "f0c6ede5",
   "metadata": {},
   "outputs": [],
   "source": [
    "import networkx as nx\n",
    "from fa2 import ForceAtlas2  #the package should be installed before\n",
    "import matplotlib.pyplot as plt\n",
    "from datetime import datetime\n",
    "from statistics import mean, median, quantiles\n",
    "from networkx.algorithms.traversal.breadth_first_search import descendants_at_distance\n",
    "import time\n",
    "import requests\n",
    "import glob\n",
    "import pickle\n",
    "import os\n",
    "import shutil\n",
    "import json\n",
    "import time\n",
    "import pandas as pd"
   ]
  },
  {
   "cell_type": "code",
   "execution_count": 27,
   "id": "92ce7e76",
   "metadata": {},
   "outputs": [],
   "source": [
    "df = pd.read_csv(\"bubble.csv\")"
   ]
  },
  {
   "cell_type": "code",
   "execution_count": 28,
   "id": "960b393c",
   "metadata": {},
   "outputs": [],
   "source": [
    "names = df[\"name\"].unique()"
   ]
  },
  {
   "cell_type": "code",
   "execution_count": 29,
   "id": "ffc79695",
   "metadata": {},
   "outputs": [],
   "source": [
    "autPupNets = glob.glob(\"aG_enrich_monthly_puppies/total/*\")\n",
    "comPupNets = glob.glob(\"cG_enrich_monthly_puppies/total/*\")\n",
    "autPolNets = glob.glob(\"aG_enrich_monthly_PoliticalDiscussion/total/*\")\n",
    "comPolNets = glob.glob(\"cG_enrich_monthly_PoliticalDiscussion/total/*\")"
   ]
  },
  {
   "cell_type": "code",
   "execution_count": 30,
   "id": "fd6bcaa6",
   "metadata": {},
   "outputs": [],
   "source": [
    "def createData(nodes, links):\n",
    "    data = {}\n",
    "    data[\"nodes\"]=createNodeList(autGraph, comGraph)\n",
    "    data[\"links\"]=createLinkList(autGraph)\n",
    "    return data"
   ]
  },
  {
   "cell_type": "code",
   "execution_count": 31,
   "id": "194b5b51",
   "metadata": {},
   "outputs": [],
   "source": [
    "def createLinkList(autGraph):\n",
    "    links = []\n",
    "    for edge in autGraph.edges():\n",
    "        link = {}\n",
    "        link[\"source\"] = edge[0]\n",
    "        link[\"target\"] = edge[1]\n",
    "        links.append(link)\n",
    "    return links"
   ]
  },
  {
   "cell_type": "code",
   "execution_count": 32,
   "id": "be169fa1",
   "metadata": {},
   "outputs": [],
   "source": [
    "def createNode(autGraph, comGraph, name):\n",
    "    comments_body = [comGraph.nodes()[comNode][\"body\"] for comNode in comGraph if comGraph.nodes()[comNode][\"author\"]==name]\n",
    "    comments_id = [comNode for comNode in comGraph if comGraph.nodes()[comNode][\"author\"]==name]\n",
    "    node = {}\n",
    "    if(name == comGraph.nodes()[list(comGraph.nodes())[0]][\"author\"]):\n",
    "        node[\"first_author\"] = 1\n",
    "    else: \n",
    "        node[\"first_author\"] = 0\n",
    "    node[\"name\"] = name\n",
    "    node[\"id\"] = name\n",
    "    node[\"created\"] =  str(datetime.utcfromtimestamp(int(autGraph.nodes()[name][\"created\"])))\n",
    "    node[\"comments_body\"] = comments_body\n",
    "    node[\"comments_id\"] = comments_id\n",
    "    return node"
   ]
  },
  {
   "cell_type": "code",
   "execution_count": 33,
   "id": "4b80b998",
   "metadata": {},
   "outputs": [],
   "source": [
    "def createNodeList(autGraph, comGraph):\n",
    "    nodes = []\n",
    "    for name in autGraph.nodes():\n",
    "        nodes.append(createNode(autGraph, comGraph, name))\n",
    "    return nodes\n",
    "        "
   ]
  },
  {
   "cell_type": "code",
   "execution_count": 34,
   "id": "12a085ce",
   "metadata": {},
   "outputs": [],
   "source": [
    "jsonData = {}\n",
    "for aNet in autPupNets:\n",
    "    aNetId = aNet.split(\"_\")[-2]\n",
    "    if aNetId in names:\n",
    "        autGraph = nx.read_gpickle(aNet)\n",
    "        comIdNet = [string for string in comPupNets if aNetId in string]\n",
    "        comGraph = nx.read_gpickle(comIdNet[0])\n",
    "        jsonData[\"t3_\"+aNetId] = createData(autGraph,comGraph)\n",
    "\n",
    "for aNet in autPolNets:\n",
    "    aNetId = aNet.split(\"_\")[-2]\n",
    "    if aNetId in names:\n",
    "        autGraph = nx.read_gpickle(aNet)\n",
    "        comIdNet = [string for string in comPolNets if aNetId in string]\n",
    "        comGraph = nx.read_gpickle(comIdNet[0])\n",
    "        jsonData[\"t3_\"+aNetId] = createData(autGraph,comGraph)"
   ]
  },
  {
   "cell_type": "code",
   "execution_count": 35,
   "id": "334880ab",
   "metadata": {},
   "outputs": [
    {
     "data": {
      "text/plain": [
       "684"
      ]
     },
     "execution_count": 35,
     "metadata": {},
     "output_type": "execute_result"
    }
   ],
   "source": [
    "len(jsonData)"
   ]
  },
  {
   "cell_type": "code",
   "execution_count": 36,
   "id": "9274622e",
   "metadata": {},
   "outputs": [],
   "source": [
    "with open('authorGraphs.json', 'w') as outfile:\n",
    "    json.dump(jsonData, outfile)"
   ]
  },
  {
   "cell_type": "code",
   "execution_count": null,
   "id": "6cac3b55",
   "metadata": {},
   "outputs": [],
   "source": []
  },
  {
   "cell_type": "code",
   "execution_count": null,
   "id": "c0f360b4",
   "metadata": {},
   "outputs": [],
   "source": []
  },
  {
   "cell_type": "code",
   "execution_count": 54,
   "id": "b13bc963",
   "metadata": {},
   "outputs": [],
   "source": [
    "commentsGraph = nx.read_gpickle(net)"
   ]
  },
  {
   "cell_type": "code",
   "execution_count": 58,
   "id": "9df72831",
   "metadata": {},
   "outputs": [
    {
     "data": {
      "text/plain": [
       "{'subset_key': 0,\n",
       " 'num_comm': 2,\n",
       " 'created': 1615785898,\n",
       " 'body': 'Meet Willie! The last of the bunch!',\n",
       " 'author': 't2_6egedien',\n",
       " 'score': 30}"
      ]
     },
     "execution_count": 58,
     "metadata": {},
     "output_type": "execute_result"
    }
   ],
   "source": [
    "commentsGraph.nodes()[\"t3_m5dkm0\"]"
   ]
  },
  {
   "cell_type": "code",
   "execution_count": null,
   "id": "ecb823cd",
   "metadata": {},
   "outputs": [],
   "source": []
  }
 ],
 "metadata": {
  "kernelspec": {
   "display_name": "Python 3",
   "language": "python",
   "name": "python3"
  },
  "language_info": {
   "codemirror_mode": {
    "name": "ipython",
    "version": 3
   },
   "file_extension": ".py",
   "mimetype": "text/x-python",
   "name": "python",
   "nbconvert_exporter": "python",
   "pygments_lexer": "ipython3",
   "version": "3.8.8"
  }
 },
 "nbformat": 4,
 "nbformat_minor": 5
}
