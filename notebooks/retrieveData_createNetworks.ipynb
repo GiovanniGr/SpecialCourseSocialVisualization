{
 "cells": [
  {
   "cell_type": "markdown",
   "metadata": {},
   "source": [
    "# Retrieve the data and create the networks through Reddit's API"
   ]
  },
  {
   "cell_type": "code",
   "execution_count": 323,
   "metadata": {},
   "outputs": [],
   "source": [
    "# PRAW to interact with reddit\n",
    "import praw\n",
    "import networkx as nx\n",
    "from fa2 import ForceAtlas2  #the package should be installed before\n",
    "import matplotlib.pyplot as plt\n",
    "from datetime import datetime\n",
    "from statistics import mean, median, quantiles\n",
    "from networkx.algorithms.traversal.breadth_first_search import descendants_at_distance"
   ]
  },
  {
   "cell_type": "code",
   "execution_count": 324,
   "metadata": {},
   "outputs": [],
   "source": [
    "reddit = praw.Reddit(client_id='kVFSoq-sZG0CJnHjlBxAZA',\n",
    "                     client_secret='uJREuWTR5I3NYYMh8LgmODjei77IJQ',\n",
    "                     user_agent='ggg997')"
   ]
  },
  {
   "cell_type": "code",
   "execution_count": 325,
   "metadata": {},
   "outputs": [],
   "source": [
    "def authors_of(top_level_comment, count_comment=0):\n",
    "    authori = []\n",
    "    if len(top_level_comment.replies) == 0:\n",
    "        count_comment = 0\n",
    "        return authori\n",
    "    else:\n",
    "        for num, comment in enumerate(top_level_comment.replies):\n",
    "            try:\n",
    "                count_comment += 1\n",
    "                print('-' * count_comment, comment.author.name)\n",
    "                authori.append(comment.author.name)\n",
    "                authorGraph.add_node(comment.author.name)\n",
    "                authorGraph.add_edge(comment.author.name, top_level_comment.author.name)\n",
    "            except:\n",
    "               continue\n",
    "            authori.extend(authors_of(comment, count_comment))\n",
    "            #replies_of(comment, count_comment)\n",
    "    return authori"
   ]
  },
  {
   "cell_type": "code",
   "execution_count": 326,
   "metadata": {},
   "outputs": [],
   "source": [
    "def replies_of(top_level_comment, created_utcs, count_comment=0):\n",
    "    replies = []\n",
    "    if len(top_level_comment.replies) == 0:\n",
    "        count_comment = 0\n",
    "        return replies\n",
    "    else:\n",
    "        for num, comment in enumerate(top_level_comment.replies):\n",
    "            try:\n",
    "                count_comment += 1\n",
    "                print('-' * count_comment, comment.id)\n",
    "                replies.append(comment.id)\n",
    "                created_utcs.append(comment.created_utc)\n",
    "                commentsGraph.add_node(comment.id, author = comment.author.name, body = comment.body, created = comment.created_utc)\n",
    "                commentsGraph.add_edge(top_level_comment.id, comment.id)\n",
    "            except:\n",
    "               continue\n",
    "            replies.extend(replies_of(comment, created_utcs))\n",
    "            #replies_of(comment, count_comment)\n",
    "    return replies"
   ]
  },
  {
   "cell_type": "code",
   "execution_count": 330,
   "metadata": {},
   "outputs": [],
   "source": [
    "def max_depth_and_H_index(G):\n",
    "    i=0\n",
    "    descs = [len(descendants_at_distance(G, list(G.nodes())[0], i))]\n",
    "    while descs[-1] > 0:\n",
    "        i = i+1\n",
    "        descs.append(len(descendants_at_distance(G, list(G.nodes())[0], i)))\n",
    "    \n",
    "    for j in range(len(descs)):\n",
    "        if descs[j] < j:\n",
    "            return i, j"
   ]
  },
  {
   "cell_type": "code",
   "execution_count": 334,
   "metadata": {},
   "outputs": [
    {
     "data": {
      "text/plain": [
       "[]"
      ]
     },
     "execution_count": 334,
     "metadata": {},
     "output_type": "execute_result"
    }
   ],
   "source": [
    "post1 = reddit.submission(id='pq0ndj')\n",
    "post1.comments.replace_more(limit=None)"
   ]
  },
  {
   "cell_type": "code",
   "execution_count": 336,
   "metadata": {},
   "outputs": [
    {
     "data": {
      "text/plain": [
       "'2021-09-17 13:57:15'"
      ]
     },
     "execution_count": 336,
     "metadata": {},
     "output_type": "execute_result"
    }
   ],
   "source": [
    "created_utcs = [post1.created_utc]\n",
    "datetime.utcfromtimestamp(post1.created_utc).strftime('%Y-%m-%d %H:%M:%S')"
   ]
  },
  {
   "cell_type": "code",
   "execution_count": 338,
   "metadata": {},
   "outputs": [],
   "source": [
    "#create the network object\n",
    "authorGraph = nx.DiGraph()\n",
    "commentsGraph = nx.DiGraph()"
   ]
  },
  {
   "cell_type": "code",
   "execution_count": 339,
   "metadata": {},
   "outputs": [],
   "source": [
    "authorGraph.add_node(post1.author.name)\n",
    "commentsGraph.add_node(post1.id, author = post1.author.name, body = post1.title, created = post1.created_utc)"
   ]
  },
  {
   "cell_type": "code",
   "execution_count": 340,
   "metadata": {},
   "outputs": [
    {
     "name": "stdout",
     "output_type": "stream",
     "text": [
      "AutoModerator\n",
      "\n",
      " ------------------------------------------------------------------------------------- \n",
      "DustinBraddock\n",
      "\n",
      " ------------------------------------------------------------------------------------- \n",
      "Atvenice\n",
      "- ILikeCoins\n",
      "\n",
      " ------------------------------------------------------------------------------------- \n",
      "thaw4188\n",
      "- ChestertonsTopiary\n",
      "\n",
      " ------------------------------------------------------------------------------------- \n",
      "Matir\n",
      "- CollateralKite\n",
      "-- Bifobe\n",
      "--- CollateralKite\n",
      "\n",
      " ------------------------------------------------------------------------------------- \n"
     ]
    }
   ],
   "source": [
    "authors = []\n",
    "for comment in post1.comments:\n",
    "    print(comment.author)\n",
    "    if(comment.author != None):\n",
    "        authorGraph.add_node(comment.author.name)\n",
    "        authorGraph.add_edge(comment.author.name, post1.author.name)\n",
    "        authors.append(comment.author.name)\n",
    "        authors.extend(authors_of(comment))\n",
    "    print()\n",
    "    print(\" ------------------------------------------------------------------------------------- \")"
   ]
  },
  {
   "cell_type": "code",
   "execution_count": 341,
   "metadata": {
    "scrolled": false
   },
   "outputs": [
    {
     "name": "stdout",
     "output_type": "stream",
     "text": [
      "hd7ho13\n",
      "\n",
      " ------------------------------------------------------------------------------------- \n",
      "hd8xohp\n",
      "\n",
      " ------------------------------------------------------------------------------------- \n",
      "hd7i0t6\n",
      "- hd7tuup\n",
      "\n",
      " ------------------------------------------------------------------------------------- \n",
      "hdahmwm\n",
      "- hddvq0z\n",
      "-- hdaumqb\n",
      "\n",
      " ------------------------------------------------------------------------------------- \n",
      "hd8cxy9\n",
      "- hd8qih5\n",
      "- hd8x4as\n",
      "- hd8z9t1\n",
      "-- hdilrq2\n",
      "\n",
      " ------------------------------------------------------------------------------------- \n"
     ]
    }
   ],
   "source": [
    "comments = []\n",
    "max_depth = 1\n",
    "\n",
    "for comment in post1.comments:\n",
    "    depth = [1]\n",
    "    print(comment.id)\n",
    "    if(comment.id != None):\n",
    "        created_utcs.append(comment.created_utc)\n",
    "        commentsGraph.add_node(comment.id, author = comment.author.name, body = comment.body, created = comment.created_utc)\n",
    "        commentsGraph.add_edge(post1.id, comment.id)\n",
    "        comments.append(comment.id)\n",
    "        comments.extend(replies_of(comment,created_utcs))\n",
    "    print()\n",
    "    print(\" ------------------------------------------------------------------------------------- \")"
   ]
  },
  {
   "cell_type": "code",
   "execution_count": 343,
   "metadata": {},
   "outputs": [
    {
     "data": {
      "text/plain": [
       "{'author': 'Atvenice',\n",
       " 'body': 'Bayesian Hypothesis Testing and Hierarchical Modeling of Ivermectin Effectiveness',\n",
       " 'created': 1631887035.0}"
      ]
     },
     "execution_count": 343,
     "metadata": {},
     "output_type": "execute_result"
    }
   ],
   "source": [
    "commentsGraph.nodes()[\"pq0ndj\"]"
   ]
  },
  {
   "cell_type": "code",
   "execution_count": 314,
   "metadata": {},
   "outputs": [],
   "source": [
    "created_utcs1=nx.get_node_attributes(commentsGraph,'created')"
   ]
  },
  {
   "cell_type": "code",
   "execution_count": 345,
   "metadata": {},
   "outputs": [
    {
     "name": "stdout",
     "output_type": "stream",
     "text": [
      "lifeTime:  1.3366435185185186  days\n",
      "averageTime:  0.28243371212096124  days\n",
      "medianTime:  0.21952546296296296  days\n",
      "lifetime95:  1.1826180555561074  days\n"
     ]
    }
   ],
   "source": [
    "created_utcs1=list(nx.get_node_attributes(commentsGraph,'created').values())\n",
    "\n",
    "lifeTime = max(created_utcs1)-min(created_utcs1)\n",
    "averageTime = mean(created_utcs1)-min(created_utcs1)\n",
    "medianTime = median(created_utcs1)-min(created_utcs1)\n",
    "quantiles95 = quantiles(created_utcs1,n=10)[8]\n",
    "lifetime95 = quantiles95-min(created_utcs1)\n",
    "\n",
    "print(\"lifeTime: \",lifeTime/86400, \" days\")\n",
    "print(\"averageTime: \",averageTime/86400, \" days\")\n",
    "print(\"medianTime: \",medianTime/86400, \" days\")\n",
    "print(\"lifetime95: \",lifetime95/86400, \" days\")"
   ]
  },
  {
   "cell_type": "code",
   "execution_count": 346,
   "metadata": {},
   "outputs": [
    {
     "name": "stdout",
     "output_type": "stream",
     "text": [
      "num total comments:  16\n",
      "num direct comments:  5\n",
      "max_depth:  5\n",
      "H_index:  3\n"
     ]
    }
   ],
   "source": [
    "num_total_comments = post1.num_comments\n",
    "num_direct_comments = len(post1.comments)\n",
    "par = max_depth_and_H_index(commentsGraph)\n",
    "\n",
    "print(\"num total comments: \",num_total_comments) #this contains also the \"removed\"\n",
    "print(\"num direct comments: \",num_direct_comments) #this contains also the \"removed\"\n",
    "print(\"max_depth: \",par[0]) #this contains also the \"removed\"\n",
    "print(\"H_index: \",par[1]) #this contains also the \"removed\""
   ]
  },
  {
   "cell_type": "code",
   "execution_count": 98,
   "metadata": {},
   "outputs": [
    {
     "name": "stderr",
     "output_type": "stream",
     "text": [
      "100%|██████████| 1000/1000 [00:00<00:00, 34391.38it/s]"
     ]
    },
    {
     "name": "stdout",
     "output_type": "stream",
     "text": [
      "BarnesHut Approximation  took  0.01  seconds\n",
      "Repulsion forces  took  0.01  seconds\n",
      "Gravitational forces  took  0.00  seconds\n",
      "Attraction forces  took  0.00  seconds\n",
      "AdjustSpeedAndApplyForces step  took  0.01  seconds\n"
     ]
    },
    {
     "name": "stderr",
     "output_type": "stream",
     "text": [
      "\n"
     ]
    }
   ],
   "source": [
    "forceatlas2 = ForceAtlas2(\n",
    "                        # Behavior alternatives\n",
    "                        outboundAttractionDistribution=True,  # Dissuade hubs\n",
    "                        linLogMode=False,  # NOT IMPLEMENTED\n",
    "                        adjustSizes=False,  # Prevent overlap (NOT IMPLEMENTED)\n",
    "                        edgeWeightInfluence=0.002,\n",
    "\n",
    "                        # Performance\n",
    "                        jitterTolerance=0.2,  # Tolerance\n",
    "                        barnesHutOptimize=True,\n",
    "                        barnesHutTheta=0.6,\n",
    "                        multiThreaded=False,  # NOT IMPLEMENTED\n",
    "\n",
    "                        # Tuning\n",
    "                        scalingRatio=3.0,\n",
    "                        strongGravityMode=True,\n",
    "                        gravity=0.15,\n",
    "\n",
    "                        # Log\n",
    "                        verbose=True)\n",
    "\n",
    "positions_authors = forceatlas2.forceatlas2_networkx_layout(authorGraph, pos=None, iterations=1000)  #prepare the visualisation: set the positions of the nodes\n"
   ]
  },
  {
   "cell_type": "code",
   "execution_count": 99,
   "metadata": {},
   "outputs": [
    {
     "data": {
      "image/png": "[encoded data removed]",
      "text/plain": [
       "<Figure size 1440x432 with 1 Axes>"
      ]
     },
     "metadata": {},
     "output_type": "display_data"
    }
   ],
   "source": [
    "plt.figure(figsize=(20,6))  #set the figure\n",
    "plt.title(\"Visualisation of the author network\")\n",
    "plt.axis('off')\n",
    "nx.draw_networkx_nodes(authorGraph, positions_authors, node_size=70, alpha=0.6)#, node_color=color_map)\n",
    "nx.draw_networkx_edges(authorGraph, positions_authors, alpha=0.14)#, edge_color=edge_map)\n",
    "labels = nx.draw_networkx_labels(authorGraph, positions_authors,font_size = 14, verticalalignment=\"bottom\")\n",
    "_=plt.figtext(0.5, 0.01, \"Figure: Visualisation of the author network. The blue circles are the nodes, the black lines are the edges.\", wrap=True, horizontalalignment='center', fontsize=12)\n",
    "plt.show()"
   ]
  },
  {
   "cell_type": "code",
   "execution_count": 100,
   "metadata": {},
   "outputs": [
    {
     "name": "stderr",
     "output_type": "stream",
     "text": [
      "100%|██████████| 1000/1000 [00:00<00:00, 29238.79it/s]"
     ]
    },
    {
     "name": "stdout",
     "output_type": "stream",
     "text": [
      "BarnesHut Approximation  took  0.01  seconds\n",
      "Repulsion forces  took  0.01  seconds\n",
      "Gravitational forces  took  0.00  seconds\n",
      "Attraction forces  took  0.00  seconds\n",
      "AdjustSpeedAndApplyForces step  took  0.01  seconds\n"
     ]
    },
    {
     "name": "stderr",
     "output_type": "stream",
     "text": [
      "\n"
     ]
    }
   ],
   "source": [
    "forceatlas2 = ForceAtlas2(\n",
    "                        # Behavior alternatives\n",
    "                        outboundAttractionDistribution=True,  # Dissuade hubs\n",
    "                        linLogMode=False,  # NOT IMPLEMENTED\n",
    "                        adjustSizes=False,  # Prevent overlap (NOT IMPLEMENTED)\n",
    "                        edgeWeightInfluence=0.002,\n",
    "\n",
    "                        # Performance\n",
    "                        jitterTolerance=0.2,  # Tolerance\n",
    "                        barnesHutOptimize=True,\n",
    "                        barnesHutTheta=0.6,\n",
    "                        multiThreaded=False,  # NOT IMPLEMENTED\n",
    "\n",
    "                        # Tuning\n",
    "                        scalingRatio=3.0,\n",
    "                        strongGravityMode=True,\n",
    "                        gravity=0.15,\n",
    "\n",
    "                        # Log\n",
    "                        verbose=True)\n",
    "\n",
    "positions_comments = forceatlas2.forceatlas2_networkx_layout(commentsGraph, pos=None, iterations=1000)  #prepare the visualisation: set the positions of the nodes\n",
    "\n"
   ]
  },
  {
   "cell_type": "code",
   "execution_count": 101,
   "metadata": {},
   "outputs": [
    {
     "data": {
      "image/png": "[encoded data removed]",
      "text/plain": [
       "<Figure size 1440x432 with 1 Axes>"
      ]
     },
     "metadata": {},
     "output_type": "display_data"
    }
   ],
   "source": [
    "plt.figure(figsize=(20,6))  #set the figure\n",
    "plt.title(\"Visualisation of the comments network\")\n",
    "plt.axis('off')\n",
    "nx.draw_networkx_nodes(commentsGraph, positions_comments, node_size=70, alpha=0.6)#, node_color=color_map)\n",
    "nx.draw_networkx_edges(commentsGraph, positions_comments, alpha=0.14)#, edge_color=edge_map)\n",
    "labels = nx.draw_networkx_labels(commentsGraph, positions_comments,font_size = 14, verticalalignment=\"bottom\")\n",
    "_=plt.figtext(0.5, 0.01, \"Figure: Visualisation of the comments network. The blue circles are the nodes, the black lines are the edges.\", wrap=True, horizontalalignment='center', fontsize=12)\n",
    "plt.show()"
   ]
  }
 ],
 "metadata": {
  "kernelspec": {
   "display_name": "Python 3",
   "language": "python",
   "name": "python3"
  },
  "language_info": {
   "codemirror_mode": {
    "name": "ipython",
    "version": 3
   },
   "file_extension": ".py",
   "mimetype": "text/x-python",
   "name": "python",
   "nbconvert_exporter": "python",
   "pygments_lexer": "ipython3",
   "version": "3.8.8"
  }
 },
 "nbformat": 4,
 "nbformat_minor": 4
}
